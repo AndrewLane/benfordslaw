{
  "nbformat": 4,
  "nbformat_minor": 0,
  "metadata": {
    "colab": {
      "name": "benfordslaw.ipynb",
      "provenance": [],
      "collapsed_sections": []
    },
    "kernelspec": {
      "name": "python3",
      "display_name": "Python 3"
    }
  },
  "cells": [
    {
      "cell_type": "markdown",
      "metadata": {
        "id": "SNiXzxf00VKk",
        "colab_type": "text"
      },
      "source": [
        "**benfordslaw** is Python package to test if an empirical (observed) distribution differs significantly from a theoretical (expected, Benfords) distribution. This notebooks is the show some examples.\n",
        "\n",
        "[Github benfordslaw](https://github.com/erdogant/benfordslaw)"
      ]
    },
    {
      "cell_type": "code",
      "metadata": {
        "id": "mdNqnD4e0qyh",
        "colab_type": "code",
        "colab": {}
      },
      "source": [
        ""
      ],
      "execution_count": null,
      "outputs": []
    },
    {
      "cell_type": "code",
      "metadata": {
        "id": "Ad4SbgQ30gO5",
        "colab_type": "code",
        "colab": {}
      },
      "source": [
        ""
      ],
      "execution_count": null,
      "outputs": []
    }
  ]
}